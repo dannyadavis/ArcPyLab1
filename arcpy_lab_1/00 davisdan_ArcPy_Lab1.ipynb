{
 "cells": [
  {
   "cell_type": "markdown",
   "metadata": {},
   "source": [
    "# ArcPy Lab 1 davisdan\n"
   ]
  },
  {
   "cell_type": "markdown",
   "metadata": {},
   "source": [
    "#### Start by setting up arcpy"
   ]
  },
  {
   "cell_type": "code",
   "execution_count": 1,
   "metadata": {
    "collapsed": true
   },
   "outputs": [],
   "source": [
    "import sys\n",
    "sys.path.append('C:\\\\Program Files (x86)\\\\ArcGIS\\\\Desktop10.5\\\\bin')\n",
    "sys.path.append('C:\\\\Program Files (x86)\\\\ArcGIS\\\\Desktop10.5\\\\arcpy')\n",
    "sys.path.append('C:\\\\Program Files (x86)\\\\ArcGIS\\\\Desktop10.5\\\\ArcToolbox\\\\Scripts')\n",
    "import arcpy"
   ]
  },
  {
   "cell_type": "markdown",
   "metadata": {},
   "source": [
    "#### Setting workspace so that I know where all files will be placed for easy access."
   ]
  },
  {
   "cell_type": "code",
   "execution_count": 2,
   "metadata": {
    "collapsed": true
   },
   "outputs": [],
   "source": [
    "#important to set workspace so all files are directed to my working directory\n",
    "arcpy.env.workspace = \"C:\\\\Users\\\\davisdan\\\\Documents\\\\geog458python\\\\arcpy_lab_1\\\\Workspace.gdb\""
   ]
  },
  {
   "cell_type": "markdown",
   "metadata": {},
   "source": [
    "#### Allow edits made to overwrite and make a copy of original data so that I keep the original file the same."
   ]
  },
  {
   "cell_type": "code",
   "execution_count": 3,
   "metadata": {},
   "outputs": [
    {
     "data": {
      "text/plain": [
       "<Result 'C:\\\\Users\\\\davisdan\\\\Documents\\\\geog458python\\\\arcpy_lab_1\\\\saep_bg10_copy.shp'>"
      ]
     },
     "execution_count": 3,
     "metadata": {},
     "output_type": "execute_result"
    }
   ],
   "source": [
    "arcpy.env.overwriteOutput = True\n",
    "\n",
    "#copy features for redundancy to keep original data seperate.\n",
    "arcpy.management.CopyFeatures(\n",
    "    \"C:\\\\Users\\\\davisdan\\\\Documents\\\\geog458python\\\\arcpy_lab_1\\\\saep_bg10.shp\",\n",
    "    \"C:\\\\Users\\\\davisdan\\\\Documents\\\\geog458python\\\\arcpy_lab_1\\\\saep_bg10_copy.shp\")"
   ]
  },
  {
   "cell_type": "markdown",
   "metadata": {},
   "source": [
    "#### variables to make the code easily adjusted for working with different data if given"
   ]
  },
  {
   "cell_type": "code",
   "execution_count": 4,
   "metadata": {
    "collapsed": true,
    "scrolled": true
   },
   "outputs": [],
   "source": [
    "fc = \"C:\\\\Users\\\\davisdan\\\\Documents\\\\geog458python\\\\arcpy_lab_1\\\\saep_bg10_copy.shp\" \n",
    "#store as a variable for speed and accuracy when running code below"
   ]
  },
  {
   "cell_type": "markdown",
   "metadata": {},
   "source": [
    "#### Joining the two tables to allow county names to be listed in the main shapefile"
   ]
  },
  {
   "cell_type": "code",
   "execution_count": 5,
   "metadata": {},
   "outputs": [
    {
     "data": {
      "text/plain": [
       "<Result 'C:\\\\Users\\\\davisdan\\\\Documents\\\\geog458python\\\\arcpy_lab_1\\\\saep_bg10_copy.shp'>"
      ]
     },
     "execution_count": 5,
     "metadata": {},
     "output_type": "execute_result"
    }
   ],
   "source": [
    "#more variables to make this easier to adjust if ever given data from another source such as Oregon.\n",
    "jt = \"C:\\\\Users\\\\davisdan\\\\Documents\\\\geog458python\\\\arcpy_lab_1\\\\WashingtonFIPS.dbf\"\n",
    "arcpy.JoinField_management (fc, \"COUNTYFP10\", jt, \"FIPSCounty\", [\"CountyName\"])\n",
    "#join the table and the shapefile  with matching fileds and create a new field named CountyName\n",
    "#This was a handy step that I learned to do from arc help online. \n",
    "#Made it easy to create a new field through this process utilizing the syntax from ArcHelp online."
   ]
  },
  {
   "cell_type": "markdown",
   "metadata": {},
   "source": [
    "#### Create a list of the counties so that I can then call back to the list when creating individual shapefiles for each specific county"
   ]
  },
  {
   "cell_type": "code",
   "execution_count": 10,
   "metadata": {
    "scrolled": false
   },
   "outputs": [
    {
     "name": "stdout",
     "output_type": "stream",
     "text": [
      "[u'Adams', u'Asotin', u'Benton', u'Chelan', u'Clallam', u'Clark', u'Columbia', u'Cowlitz', u'Douglas', u'Ferry', u'Franklin', u'Garfield', u'Grant', u'Grays Harbor', u'Island', u'Jefferson', u'King', u'Kitsap', u'Kittitas', u'Klickitat', u'Lewis', u'Lincoln', u'Mason', u'Okanogan', u'Pacific', u'Pend Oreille', u'Pierce', u'San Juan', u'Skagit', u'Skamania', u'Snohomish', u'Spokane', u'Stevens', u'Thurston', u'Wahkiakum', u'Walla Walla', u'Whatcom', u'Whitman', u'Yakima']\n"
     ]
    }
   ],
   "source": [
    "#creating a county list for my loop to go through the shapefile and know what to search for\n",
    "county_list = []\n",
    "\n",
    "cursor = arcpy.da.SearchCursor (jt, [\"CountyName\"])\n",
    "\n",
    "for row in cursor:\n",
    "    county_list.append(row[0])\n",
    "\n",
    "del cursor\n",
    "print county_list"
   ]
  },
  {
   "cell_type": "markdown",
   "metadata": {},
   "source": [
    "#### Now to run the code that will actually use the list above to create each individual shapefile of only block groups located in that county"
   ]
  },
  {
   "cell_type": "code",
   "execution_count": 11,
   "metadata": {
    "collapsed": true
   },
   "outputs": [],
   "source": [
    "work = \"C:\\\\Users\\\\davisdan\\\\Documents\\\\geog458python\\\\arcpy_lab_1\\\\\"\n",
    "# creating a loop to allow each county to be given its own shapefile \n",
    "# with the needed data from the original shapefile that I joined together above.\n",
    "for county in county_list: \n",
    "    arcpy.FeatureClassToFeatureClass_conversion (fc, work, str(county), \n",
    "                                                 '\"CountyName\" = ' + \"'%s'\" %county)\n",
    "    #found this toolset on Arc help Online which took a little bit to teach myself \n",
    "    #how to understand the operation and what to use as the expression to get it to do the operation successfully\n",
    "    #I messed something up at this point the first time hardcore and created a lock\n",
    "    #I could not figure out how to fix this so I had to start over and re-run all the code again \n",
    "    #in a new folder as it is still suffering from a lock on terminal server."
   ]
  },
  {
   "cell_type": "markdown",
   "metadata": {},
   "source": [
    "#### The code given to us in lab document that will allow shapefiles to be turned into geojson files"
   ]
  },
  {
   "cell_type": "code",
   "execution_count": 12,
   "metadata": {
    "collapsed": true
   },
   "outputs": [],
   "source": [
    "#all of this is called from the lab document given to us.\n",
    "from subprocess import call\n",
    "import os\n",
    "\n",
    "os.environ[\"GDAL_DATA\"] = \"C:\\\\OSGeo4W64\\\\share\\\\gdal\"\n",
    "os.environ[\"GDAL_DRIVER_PATH\"] = \"C:\\\\OSGeo4W64\\\\bin\\\\gdalplugins\"\n",
    "os.environ[\"PROJ_LIB\"] = \"C:\\\\OSGeo4W64\\\\share\\\\proj\"\n",
    "os.environ[\"PATH\"] = \"C:\\\\OSGeo4W64\\\\bin;\"+os.environ[\"PATH\"]+\";C:\\\\OSGeo4W64\\\\apps\\\\msys\\\\bin;C:\\\\OSGeo4W64\\\\apps\\\\Python27\\\\Scripts\"\n"
   ]
  },
  {
   "cell_type": "markdown",
   "metadata": {},
   "source": [
    "#### Code that will allow the shapefiles to be turned into geojson files, with a coordinate transformation which is required for viewing in that program"
   ]
  },
  {
   "cell_type": "code",
   "execution_count": 15,
   "metadata": {},
   "outputs": [],
   "source": [
    "# also from the lab and followed the steps posted to figure out what projection to use\n",
    "for county in county_list:\n",
    "    call(['C:\\\\OSGeo4W64\\\\bin\\\\ogr2ogr',\n",
    "      '-f','GeoJSON','-t_srs','WGS84',\n",
    "      '-s_srs','EPSG:2927', #adjusting the projection from original saep_bg10.prj to 2927 - NAD_1983_HARN_StatePlane_Washington_South_FIPS_4602_Feet\n",
    "      'C:\\\\Users\\\\davisdan\\\\Documents\\\\geog458python\\\\arcpy_lab_1\\\\geojson\\\\' + county + '.geojson',\n",
    "      'C:\\\\Users\\\\davisdan\\\\Documents\\\\geog458python\\\\arcpy_lab_1\\\\' + county + '.shp'])\n",
    "    #add this to a new folder \\\\geojson\\\\ so that it is seperate and orderly in its own destination\n",
    "    \n",
    "    #dont forget to turn in this folder containing the geojson files for lab 1"
   ]
  },
  {
   "cell_type": "markdown",
   "metadata": {},
   "source": [
    "#### Combine the population of each county to then be sorted\n"
   ]
  },
  {
   "cell_type": "code",
   "execution_count": 32,
   "metadata": {},
   "outputs": [
    {
     "name": "stdout",
     "output_type": "stream",
     "text": [
      "[19870.0, 22290.0, 193499.99999999997, 76829.99999999999, 74240.00000000001, 470999.9999999994, 4100.0, 105900.00000000001, 41420.0, 7740.0, 90330.00000000003, 2200.0, 95630.0, 72970.0, 82790.0, 31360.0, 2153700.0, 264300.00000000006, 44730.0, 21660.0, 77440.00000000003, 10700.0, 63190.00000000001, 42110.00000000001, 21249.999999999996, 13370.0, 859400.0000000003, 16510.0, 124100.00000000001, 11690.0, 789400.0000000005, 499800.0, 44510.0, 276899.9999999999, 4030.0, 61399.999999999985, 216300.00000000003, 48639.99999999999, 253000.0]\n"
     ]
    }
   ],
   "source": [
    "# need to create a list of population with loops and print it in descending order. county name does not need to be included\n",
    "pop17_list = []\n",
    "for county in county_list:\n",
    "    pop17 = 0      #need use of search cursor to go through and find the needed values\n",
    "    cursor = arcpy.da.SearchCursor(fc, [\"POP2017\"], '\"CountyName\" = ' + \"'%s'\" % county)\n",
    "    for row in cursor:\n",
    "        pop17 = row[0] + pop17\n",
    "    pop17_list.append(pop17) \n",
    "    #this printed all data values so now i need to add in more code.\n",
    "    #remember where things are formated. I had pop17_list.append(pop17) spaced incorrectly\n",
    "    #it printed all rows instead of combining each county...\n",
    "        \n",
    "\n",
    "del cursor #dont forget to delete the cursor!\n",
    "print pop17_list"
   ]
  },
  {
   "cell_type": "markdown",
   "metadata": {},
   "source": [
    "#### Now that I have the population of the counties I need to sort them  to be the top 10 & in descending order"
   ]
  },
  {
   "cell_type": "code",
   "execution_count": 37,
   "metadata": {},
   "outputs": [
    {
     "name": "stdout",
     "output_type": "stream",
     "text": [
      "2153700.0\n",
      "859400.0\n",
      "789400.0\n",
      "499800.0\n",
      "471000.0\n",
      "276900.0\n",
      "264300.0\n",
      "253000.0\n",
      "216300.0\n",
      "193500.0\n"
     ]
    }
   ],
   "source": [
    "pop17_list.sort(reverse=True) #allows the list of the population to be sorted in a descending format\n",
    "# need to now only include the top ten county populations\n",
    "for i in range (10): #This tells it to only include the 10 values needed\n",
    "    print pop17_list[i]"
   ]
  },
  {
   "cell_type": "markdown",
   "metadata": {},
   "source": [
    "#### Final thoughts and reflections"
   ]
  },
  {
   "cell_type": "markdown",
   "metadata": {},
   "source": [
    "This lab was very intimidating at first but all the in class materials and group excercises helped in making this whole lab come together.\n",
    "Also other students that had prior coding experience were able to break things down step by step, to create myself a workflow of what I am trying to accomplish, which made it a lot easier to think of doing little tasks line by line which then adds to the end goal.\n",
    "Thank you Yulong for breaking down some of these componants to help teach me a process that I understand and can use for future workflows of solving how to code properly.\n",
    "I need to remember that certain cell blocks should not be ran a second time once successfully compleated as it can cause issues like I had before.\n",
    "\n",
    "Using variables were super helpful and I hope to use them more often as it makes it easier and looks clean when following along.\n",
    "\n",
    "One thing that was helpful was the ArcHelp Online which had a lot of syntax examples for the toolsets so that I could understand what each operation was doing and what parameters were needed to run them properly."
   ]
  },
  {
   "cell_type": "markdown",
   "metadata": {},
   "source": [
    "#### overall I did 3 seperate days of working which combined to about 11 hours with finally success!!!"
   ]
  },
  {
   "cell_type": "code",
   "execution_count": null,
   "metadata": {
    "collapsed": true
   },
   "outputs": [],
   "source": []
  }
 ],
 "metadata": {
  "kernelspec": {
   "display_name": "Python 2",
   "language": "python",
   "name": "python2"
  },
  "language_info": {
   "codemirror_mode": {
    "name": "ipython",
    "version": 2
   },
   "file_extension": ".py",
   "mimetype": "text/x-python",
   "name": "python",
   "nbconvert_exporter": "python",
   "pygments_lexer": "ipython2",
   "version": "2.7.14"
  }
 },
 "nbformat": 4,
 "nbformat_minor": 2
}
